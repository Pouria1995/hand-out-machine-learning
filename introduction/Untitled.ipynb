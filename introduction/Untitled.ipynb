{
 "cells": [
  {
   "cell_type": "code",
   "execution_count": null,
   "id": "0470e934-52bc-4f44-8649-4ace90a98869",
   "metadata": {},
   "outputs": [],
   "source": [
    "print(\"Hello world\")"
   ]
  },
  {
   "cell_type": "markdown",
   "id": "e5c103ab-26f1-4b8e-a5b1-2e5589c26e79",
   "metadata": {},
   "source": [
    "Introduction to Machine Learning Learning Handout: Unlocking the Power of Data"
   ]
  },
  {
   "cell_type": "markdown",
   "id": "4a76d49f-b167-48b8-a68a-3b792aa945e6",
   "metadata": {},
   "source": [
    "Welcome to the fascinating world of Machine Learning (ML),\n",
    "\n",
    "where computers learn to make decisions and predictions by analyzing data patterns. \n",
    "\n",
    "This handout is designed to introduce you to the fundamentals of Machine Learning and guide you on your journey of understanding and applying this transformative technology.\n"
   ]
  },
  {
   "cell_type": "markdown",
   "id": "2f748713-0b42-4ff9-9799-7ec15eab2afe",
   "metadata": {},
   "source": [
    "you can find more ditails from 'https://en.wikipedia.org/wiki/Machine_learning'"
   ]
  },
  {
   "cell_type": "raw",
   "id": "4e073b83-efc7-4e9b-8043-8b37b4c8422e",
   "metadata": {},
   "source": [
    "but better before we start , I should say some points\n",
    "\n",
    "1 : Machine learning algorithm based on mathematics\n",
    "and includes all mathematical topics\n",
    "The more you master this infinite science, the more successful you will be not only as a data scientist, but in all branches of the computer tree.\n",
    "\n",
    "\n",
    "2: As a data sience you should know about (Numpy) , (Pandas) , (Mathploit) and (seaborn) library \n",
    "\n",
    "3: Preliminary topics of mathematics included (Linear Algebra) , (Statistics and Probability from high school) and Discrete mathematics\n",
    "\n",
    "\n"
   ]
  },
  {
   "cell_type": "code",
   "execution_count": null,
   "id": "ad19f618-1477-4c08-87f8-d79e7ef47d06",
   "metadata": {},
   "outputs": [],
   "source": []
  }
 ],
 "metadata": {
  "kernelspec": {
   "display_name": "Python 3 (ipykernel)",
   "language": "python",
   "name": "python3"
  },
  "language_info": {
   "codemirror_mode": {
    "name": "ipython",
    "version": 3
   },
   "file_extension": ".py",
   "mimetype": "text/x-python",
   "name": "python",
   "nbconvert_exporter": "python",
   "pygments_lexer": "ipython3",
   "version": "3.11.2"
  }
 },
 "nbformat": 4,
 "nbformat_minor": 5
}
